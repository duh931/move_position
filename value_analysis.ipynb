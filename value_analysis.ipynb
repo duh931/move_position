{
 "cells": [
  {
   "cell_type": "code",
   "execution_count": 2,
   "metadata": {
    "collapsed": true
   },
   "outputs": [],
   "source": [
    "import pandas as pd\n",
    "import numpy as np\n",
    "import glob\n",
    "import os\n",
    "from datetime import datetime, timedelta\n",
    "import matplotlib.pyplot as plt\n"
   ]
  },
  {
   "cell_type": "code",
   "execution_count": 3,
   "metadata": {
    "collapsed": true
   },
   "outputs": [],
   "source": [
    "def adjust_mean(timeseries):\n",
    "    n=len(timeseries)\n",
    "    decay=0.99\n",
    "    weights=np.ones(n)/float(n)\n",
    "    line=np.array([1.0001**(-decay*(n-t)) for t in np.linspace(1,n,num=n)])\n",
    "    adjust_weight=line*weights\n",
    "    return np.sum(adjust_weight*timeseries)"
   ]
  },
  {
   "cell_type": "code",
   "execution_count": 4,
   "metadata": {
    "collapsed": true
   },
   "outputs": [],
   "source": [
    "def read_values(data_list):\n",
    "    allFiles = glob.glob( \"../values/*.csv\")\n",
    "    for name in allFiles:\n",
    "        data_list[name[10:-4]]=pd.read_csv(name)"
   ]
  },
  {
   "cell_type": "code",
   "execution_count": 5,
   "metadata": {
    "collapsed": false
   },
   "outputs": [],
   "source": [
    "def sharp_ratio(df,adjust=False):\n",
    "    vals=df['net_worth'].values\n",
    "    hourly_return=np.log(vals[1:]/vals[0:-1])\n",
    "    if adjust==False:\n",
    "        volatility=np.std(hourly_return)\n",
    "        mean=np.mean(hourly_return)\n",
    "    else:\n",
    "        mean=adjust_mean(hourly_return)\n",
    "        volatility=np.power(adjust_mean(np.square(np.array(hourly_return-mean))),0.5)\n",
    "    return mean/volatility*8760/np.sqrt(8760.0)\n",
    "        \n",
    "    "
   ]
  },
  {
   "cell_type": "code",
   "execution_count": 6,
   "metadata": {
    "collapsed": false
   },
   "outputs": [],
   "source": [
    "def max_drawdown(df,adjust=False):\n",
    "    vals=df['net_worth'].values\n",
    "    n=len(vals)\n",
    "    i = np.argmax(np.maximum.accumulate(vals) - vals)\n",
    "    j = np.argmax(vals[:i])\n",
    "    decay=0.99\n",
    "    date_end=df.iloc[i]['date']\n",
    "    date_start=df.iloc[j]['date']\n",
    "    if adjust==False:\n",
    "        return ((float(vals[i]) / vals[j]) - 1), date_start, date_end\n",
    "    else:\n",
    "        return ((float(vals[i]) / vals[j]) - 1)*1.0001**(-decay*(n-(i+j)/2)), date_start, date_end"
   ]
  },
  {
   "cell_type": "code",
   "execution_count": 7,
   "metadata": {
    "collapsed": true
   },
   "outputs": [],
   "source": [
    "def days_trading(df):\n",
    "    duration=df['date'].values\n",
    "    first_day=datetime.strptime(duration[0], \"%Y-%m-%d %H:%M:%S\")\n",
    "    last_day=datetime.strptime(duration[-1], \"%Y-%m-%d %H:%M:%S\")\n",
    "    return (last_day-first_day).days*24.0+(last_day-first_day).seconds/3600.0\n",
    "        "
   ]
  },
  {
   "cell_type": "code",
   "execution_count": 8,
   "metadata": {
    "collapsed": true
   },
   "outputs": [],
   "source": [
    "def prob_up(df):\n",
    "    vals=df['net_worth'].values\n",
    "    hourly_return=np.log(vals[1:]/vals[0:-1])\n",
    "    temp1=[x>0 for x in hourly_return]\n",
    "    temp2=[x<0 for x in hourly_return]\n",
    "    return np.sum(temp1)/float(np.sum(temp1)+np.sum(temp2))"
   ]
  },
  {
   "cell_type": "code",
   "execution_count": 9,
   "metadata": {
    "collapsed": true
   },
   "outputs": [],
   "source": [
    "def cumulate_return(df):\n",
    "    vals=df['net_worth'].values\n",
    "    return (vals[-1]/vals[0]-1)"
   ]
  },
  {
   "cell_type": "code",
   "execution_count": 10,
   "metadata": {
    "collapsed": true
   },
   "outputs": [],
   "source": [
    "def ret_drawdown(df):\n",
    "    vals=df['net_worth'].values\n",
    "    mean_ret=(vals[-1]/vals[0]-1)/len(vals)\n",
    "    return -mean_ret/max_drawdown(df)[0]"
   ]
  },
  {
   "cell_type": "code",
   "execution_count": 11,
   "metadata": {
    "collapsed": true
   },
   "outputs": [],
   "source": [
    "def basic_analysis(data_list):\n",
    "    value_return={}\n",
    "    for name,data in data_list.iteritems():\n",
    "        value_return[name]=(sharp_ratio(data),sharp_ratio(data,True),-max_drawdown(data)[0],-max_drawdown(data,True)[0],\n",
    "                            prob_up(data),cumulate_return(data),ret_drawdown(data),days_trading(data))\n",
    "    return value_return"
   ]
  },
  {
   "cell_type": "code",
   "execution_count": 12,
   "metadata": {
    "collapsed": false
   },
   "outputs": [
    {
     "name": "stdout",
     "output_type": "stream",
     "text": [
      "OI 0.010819182603\n",
      "pp 0.0115733245913\n",
      "p 0.0143180146209\n",
      "v 0.014804957169\n",
      "c 0.0171919770801\n",
      "ZC 0.0210756633608\n",
      "TA 0.0211973321165\n",
      "l 0.0226680834274\n",
      "MA 0.0230468995405\n",
      "jm 0.0233914093562\n",
      "cs 0.0261346689551\n",
      "y 0.0304042199116\n",
      "j 0.0307676246498\n",
      "jd 0.0370049505018\n",
      "\n",
      "\n",
      "v 0.00450300331919\n",
      "c 0.00576231601843\n",
      "pp 0.00608079852417\n",
      "OI 0.00686501668243\n",
      "cs 0.00885734311287\n",
      "MA 0.00907562135262\n",
      "l 0.00920098920261\n",
      "y 0.0094194528299\n",
      "jm 0.00993792884462\n",
      "TA 0.0105587001186\n",
      "p 0.0112021954158\n",
      "jd 0.0126273672105\n",
      "j 0.0134444634715\n",
      "ZC 0.0167392706944\n"
     ]
    }
   ],
   "source": [
    "if __name__ == '__main__':\n",
    "    data_list={} #all dataframes\n",
    "    read_values(data_list)\n",
    "    performance=basic_analysis(data_list)\n",
    "    sort_sharp=sorted(performance.items(),key=lambda x: x[1][0] ,reverse=True)\n",
    "    sort_adjust_sharp=sorted(performance.items(),key=lambda x: x[1][1] ,reverse=True)\n",
    "    sort_drawdown=sorted(performance.items(),key=lambda x: x[1][2])\n",
    "    sort_adjust_drawdown=sorted(performance.items(),key=lambda x: x[1][3])\n",
    "    sort_prob_up=sorted(performance.items(),key=lambda x: x[1][4],reverse=True)\n",
    "    sort_return=sorted(performance.items(),key=lambda x: x[1][5],reverse=True)\n",
    "    sort_ret_drawdown=sorted(performance.items(),key=lambda x: x[1][6],reverse=True)\n",
    "    for item in sort_drawdown:\n",
    "        print item[0], item[1][2]\n",
    "    print '\\n'\n",
    "    for item in sort_adjust_drawdown:\n",
    "        print item[0], item[1][3]\n",
    "    analysis_df=pd.DataFrame.from_dict(performance,orient='index')\n",
    "    analysis_df.columns=['sharp','adjusted_sharp','max_drawdown','adjust_drawdown',\n",
    "                         'prob_up','cumulate_return','ret_drawdown','hours_trading']\n",
    "    analysis_df.to_csv('./analysis.csv')"
   ]
  },
  {
   "cell_type": "code",
   "execution_count": null,
   "metadata": {
    "collapsed": true
   },
   "outputs": [],
   "source": []
  }
 ],
 "metadata": {
  "kernelspec": {
   "display_name": "Python 2",
   "language": "python",
   "name": "python2"
  },
  "language_info": {
   "codemirror_mode": {
    "name": "ipython",
    "version": 2
   },
   "file_extension": ".py",
   "mimetype": "text/x-python",
   "name": "python",
   "nbconvert_exporter": "python",
   "pygments_lexer": "ipython2",
   "version": "2.7.13"
  }
 },
 "nbformat": 4,
 "nbformat_minor": 0
}
